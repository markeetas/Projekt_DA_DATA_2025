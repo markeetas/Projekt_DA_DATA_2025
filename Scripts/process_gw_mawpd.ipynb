{
 "cells": [
  {
   "cell_type": "code",
   "execution_count": 1,
   "id": "e6d2466e",
   "metadata": {},
   "outputs": [],
   "source": [
    "import xarray as xr\n",
    "import numpy as np\n",
    "import pandas as pd"
   ]
  },
  {
   "cell_type": "code",
   "execution_count": 2,
   "id": "c5ceb16c",
   "metadata": {},
   "outputs": [],
   "source": [
    "# load the NetCDF dataset \n",
    "path = r\"C:\\Users\\marke\\DA_Projekt\\Data_nezpracovana\\MAWPD\\MAWPD_v2.0_GW_NA.nc\"\n",
    "ds = xr.open_dataset(path)"
   ]
  },
  {
   "cell_type": "code",
   "execution_count": null,
   "id": "165980af",
   "metadata": {},
   "outputs": [],
   "source": [
    "# Averaging GW over Solar_Longitude, Local_Time and Altitude\n",
    "ds_mean = ds['GW'].mean(dim=['Solar_Longitude', 'Local_Time', 'Altitude'])"
   ]
  },
  {
   "cell_type": "code",
   "execution_count": null,
   "id": "3e7dac08",
   "metadata": {},
   "outputs": [],
   "source": [
    "# Extract latitude, longitude and the averaged GW values into a flat dataframe\n",
    "lat = ds_mean.coords['Latitude'].values\n",
    "lon = ds_mean.coords['Longitude'].values\n",
    "gw_values = ds_mean.values  # shape is (lat, lon)"
   ]
  },
  {
   "cell_type": "code",
   "execution_count": null,
   "id": "123a5f58",
   "metadata": {},
   "outputs": [],
   "source": [
    "# Create lat/lon grid\n",
    "lat_grid, lon_grid = np.meshgrid(lat, lon, indexing='ij')"
   ]
  },
  {
   "cell_type": "code",
   "execution_count": null,
   "id": "95302499",
   "metadata": {},
   "outputs": [],
   "source": [
    "# B0uild a dataframe with each lat/lon point and its corresponding GW mean value\n",
    "df = pd.DataFrame({\n",
    "    'lat': lat_grid.ravel(),\n",
    "    'lon': lon_grid.ravel(),\n",
    "    'gw_mean': gw_values.ravel()\n",
    "})\n"
   ]
  },
  {
   "cell_type": "code",
   "execution_count": null,
   "id": "d01f735b",
   "metadata": {},
   "outputs": [],
   "source": [
    "# save the result to a CSV file \n",
    "output_path = r\"C:\\Users\\marke\\DA_Projekt\\Data_nezpracovana\\MAWPD\\gw_mean_raw.csv\"\n",
    "df.to_csv(output_path, index=False)"
   ]
  }
 ],
 "metadata": {
  "kernelspec": {
   "display_name": "Python 3",
   "language": "python",
   "name": "python3"
  },
  "language_info": {
   "codemirror_mode": {
    "name": "ipython",
    "version": 3
   },
   "file_extension": ".py",
   "mimetype": "text/x-python",
   "name": "python",
   "nbconvert_exporter": "python",
   "pygments_lexer": "ipython3",
   "version": "3.12.0"
  }
 },
 "nbformat": 4,
 "nbformat_minor": 5
}
