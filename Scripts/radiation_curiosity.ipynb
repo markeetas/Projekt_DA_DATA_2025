{
 "cells": [
  {
   "cell_type": "code",
   "execution_count": 2,
   "id": "dc393e02",
   "metadata": {},
   "outputs": [],
   "source": [
    "import pandas as pd \n",
    "import re \n",
    "import os"
   ]
  },
  {
   "cell_type": "code",
   "execution_count": null,
   "id": "dfb49871",
   "metadata": {},
   "outputs": [],
   "source": [
    "# Fixed location (Gale Crater/Curiosity path coordinates)\n",
    "LAT = -4.7\n",
    "LON = 137.4"
   ]
  },
  {
   "cell_type": "code",
   "execution_count": null,
   "id": "89c72356",
   "metadata": {},
   "outputs": [],
   "source": [
    "# Target list of records\n",
    "records = []\n",
    "# Path to the folder containing the files\n",
    "folder_path = r\"F:\\MSL_RAD\""
   ]
  },
  {
   "cell_type": "code",
   "execution_count": null,
   "id": "82fa7410",
   "metadata": {},
   "outputs": [],
   "source": [
    "# Loop through all files in the folder\n",
    "for filename in os.listdir(folder_path):\n",
    "    if filename.endswith(\".TXT\"):\n",
    "        filepath = os.path.join(folder_path, filename)\n",
    "        with open(filepath, \"r\", encoding=\"utf-8\", errors=\"ignore\") as f:\n",
    "            text = f.read()\n",
    "            \n",
    "            # Find the SOL (Martian day)\n",
    "            sol_match = re.search(r\"START_SOL\\s*=\\s*(\\d+)\", text)\n",
    "            sol = int(sol_match.group(1)) if sol_match else None\n",
    "            \n",
    "            # Find Total Dose B\n",
    "            dose_b_match = re.search(r\"\\[DOSIMETRY_TOTAL_DOSE_B: 00\\]\\s*\\n\\n([0-9.]+)\", text)\n",
    "            dose_b = float(dose_b_match.group(1)) if dose_b_match else None\n",
    "            \n",
    "            # Find Total Dose E\n",
    "            dose_e_match = re.search(r\"\\[DOSIMETRY_TOTAL_DOSE_E: 00\\]\\s*\\n\\n([0-9.]+)\", text)\n",
    "            dose_e = float(dose_e_match.group(1)) if dose_e_match else None\n",
    "            \n",
    "            # Append to records only if all values are found\n",
    "            if sol is not None and dose_b is not None and dose_e is not None:\n",
    "                records.append({\n",
    "                    \"sol\": sol,\n",
    "                    \"dose_b_µGy/h\": dose_b,\n",
    "                    \"dose_e_µGy/h\": dose_e,\n",
    "                    \"lat\": LAT,\n",
    "                    \"lon\": LON\n",
    "                })"
   ]
  },
  {
   "cell_type": "code",
   "execution_count": null,
   "id": "51a87b10",
   "metadata": {},
   "outputs": [
    {
     "name": "stdout",
     "output_type": "stream",
     "text": [
      "Saved as 'radiation_curiosity.csv' (1277 records).\n"
     ]
    }
   ],
   "source": [
    "# Create DataFrame and save to csv\n",
    "df = pd.DataFrame(records)\n",
    "df.sort_values(\"sol\", inplace=True)\n",
    "df.to_csv(\"radiation_curiosity.csv\", index=False)\n",
    "\n",
    "print(f\"Saved as 'radiation_curiosity.csv' ({len(df)} records).\")"
   ]
  }
 ],
 "metadata": {
  "kernelspec": {
   "display_name": "Python 3",
   "language": "python",
   "name": "python3"
  },
  "language_info": {
   "codemirror_mode": {
    "name": "ipython",
    "version": 3
   },
   "file_extension": ".py",
   "mimetype": "text/x-python",
   "name": "python",
   "nbconvert_exporter": "python",
   "pygments_lexer": "ipython3",
   "version": "3.12.0"
  }
 },
 "nbformat": 4,
 "nbformat_minor": 5
}
